{
 "cells": [
  {
   "cell_type": "code",
   "execution_count": 45,
   "metadata": {},
   "outputs": [
    {
     "data": {
      "image/png": "[encoded data removed]",
      "text/plain": [
       "<Figure size 432x288 with 1 Axes>"
      ]
     },
     "metadata": {
      "needs_background": "light"
     },
     "output_type": "display_data"
    },
    {
     "name": "stdout",
     "output_type": "stream",
     "text": [
      "[0.   0.02 0.04 0.06 0.08 0.1  0.12 0.14 0.16 0.18 0.2  0.22 0.24 0.26\n",
      " 0.28 0.3  0.32 0.34 0.36 0.38 0.4  0.42 0.44 0.46 0.48 0.5  0.52 0.54\n",
      " 0.56 0.58 0.6  0.62 0.64 0.66 0.68 0.7  0.72 0.74 0.76 0.78 0.8  0.82\n",
      " 0.84 0.86 0.88 0.9  0.92 0.94 0.96 0.98]\n"
     ]
    }
   ],
   "source": [
    "import numpy as np\n",
    "import matplotlib.pyplot as plt\n",
    "import math \n",
    "\n",
    "num = 100000\n",
    "\n",
    "# ax = plt.axes(projection='3d')\n",
    "xdata = np.random.uniform(-1, 1, size=num)\n",
    "ydata = np.random.uniform(-1, 1, size=num)\n",
    "zdata = np.random.uniform(0, 2, size=num)\n",
    "\n",
    "sphere_points = [[],[],[]]\n",
    "for i in range(num):\n",
    "    if (xdata[i]**2 + ydata[i]**2 + (zdata[i]-1)**2 <= 1):\n",
    "        sphere_points[0].append(xdata[i])\n",
    "        sphere_points[1].append(ydata[i])\n",
    "        sphere_points[2].append(zdata[i])\n",
    "\n",
    "# ax.scatter3D(sphere_points[0], sphere_points[1], sphere_points[2])\n",
    "\n",
    "cosines = []\n",
    "for i in range(len(sphere_points[0])):\n",
    "    cosines.append(sphere_points[2][i] / math.sqrt(sphere_points[0][i]**2 + sphere_points[1][i]**2 + sphere_points[2][i]**2))\n",
    "\n",
    "binNum = 50\n",
    "plt.hist(cosines, binNum)\n",
    "\n",
    "xpoints = np.arange(0, 1, 1 / binNum)\n",
    "ypoints = xpoints ** 3 * 4000\n",
    "\n",
    "plt.plot(xpoints, ypoints)\n",
    "plt.show()\n",
    "\n",
    "print(xpoints)\n"
   ]
  }
 ],
 "metadata": {
  "interpreter": {
   "hash": "20bf69066c0dd38d51965b69d5e1b6e387082e3198ba56e97997ac55f4e50ad0"
  },
  "kernelspec": {
   "display_name": "Python 3.8.2 64-bit",
   "language": "python",
   "name": "python3"
  },
  "language_info": {
   "codemirror_mode": {
    "name": "ipython",
    "version": 3
   },
   "file_extension": ".py",
   "mimetype": "text/x-python",
   "name": "python",
   "nbconvert_exporter": "python",
   "pygments_lexer": "ipython3",
   "version": "3.8.2"
  },
  "orig_nbformat": 4
 },
 "nbformat": 4,
 "nbformat_minor": 2
}
